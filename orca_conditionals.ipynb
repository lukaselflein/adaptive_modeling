{
 "cells": [
  {
   "cell_type": "markdown",
   "metadata": {},
   "source": [
    "# Orca Framework for Conditionals\n",
    "I want to rate models according to their predictive power.\n",
    "Thus, the first step is to build a framework.\n",
    "We already have a draft of one for syllogisms, this is the first draft for a clone for conditionals.\n",
    "\n",
    "The basic idea is this:\n",
    "* Model gets participant's past answers\n",
    "* Model predicts the answer to the next conditional\n",
    "* Scoring rule is applied\n",
    "* Model performance is evaluated/plotted"
   ]
  }
 ],
 "metadata": {
  "kernelspec": {
   "display_name": "Python 3",
   "language": "python",
   "name": "python3"
  },
  "language_info": {
   "codemirror_mode": {
    "name": "ipython",
    "version": 3
   },
   "file_extension": ".py",
   "mimetype": "text/x-python",
   "name": "python",
   "nbconvert_exporter": "python",
   "pygments_lexer": "ipython3",
   "version": "3.5.2"
  }
 },
 "nbformat": 4,
 "nbformat_minor": 2
}
