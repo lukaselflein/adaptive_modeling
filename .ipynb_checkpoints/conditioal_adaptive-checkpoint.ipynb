{
 "cells": [
  {
   "cell_type": "markdown",
   "metadata": {},
   "source": [
    "# Adaptive Model for Conditional Reasoning\n",
    "I build a model with the following desirada:\n",
    "* Based on a (published) cognitive model\n",
    "* Incorporates new data of the individual reasoner\n",
    "\n",
    "I test properties:\n",
    "* 4 scoring functions\n",
    "* Dependence of the score on the weight of the new data"
   ]
  },
  {
   "cell_type": "code",
   "execution_count": 25,
   "metadata": {},
   "outputs": [],
   "source": [
    "%matplotlib inline\n",
    "from matplotlib import pyplot as plt\n",
    "import numpy as np\n",
    "import pymc3 as pm\n",
    "import pandas as pd\n",
    "import seaborn as sns\n",
    "import scoring_rules\n",
    "import utility\n",
    "import scipy.optimize\n",
    "import random\n",
    "random.seed(123)"
   ]
  },
  {
   "cell_type": "markdown",
   "metadata": {},
   "source": [
    "### Data input"
   ]
  },
  {
   "cell_type": "code",
   "execution_count": 21,
   "metadata": {},
   "outputs": [
    {
     "data": {
      "image/png": "[encoded data removed]",
      "text/plain": [
       "<matplotlib.figure.Figure at 0x7fbf25d1d940>"
      ]
     },
     "metadata": {},
     "output_type": "display_data"
    }
   ],
   "source": [
    "# Read in experimental oberauer data\n",
    "# It consists of participants' answers to two abstract conditionals\n",
    "patterns = pd.read_csv('../conditional_data/oberauer_81_patterns.csv')\n",
    "patterns = patterns.drop(patterns.columns[0], axis=1)\n",
    "\n",
    "# Transform counts into individual responses\n",
    "data = []\n",
    "for pattern in patterns.columns:\n",
    "    frequency = patterns.loc[0, pattern]\n",
    "    data += [[int(pattern[i]) for i in range(len(pattern))]] * frequency\n",
    "data = pd.DataFrame(np.array(data), columns=['MP', 'MT', 'AC', 'DA'])\n",
    "\n",
    "# Plot data summaries\n",
    "fig, ax = plt.subplots(1, 2, figsize=(15,2))\n",
    "data.sum(axis=0).plot(kind='bar', rot=0, ax=ax[0], title='Total number of acceptances')\n",
    "data.plot(kind='hist', bins=5, alpha=0.5, ax=ax[1], title='Acceptance number distribution')\n",
    "plt.show()"
   ]
  },
  {
   "cell_type": "code",
   "execution_count": 22,
   "metadata": {},
   "outputs": [
    {
     "data": {
      "image/png": "[encoded data removed]",
      "text/plain": [
       "<matplotlib.figure.Figure at 0x7fbf25eac6a0>"
      ]
     },
     "metadata": {},
     "output_type": "display_data"
    }
   ],
   "source": [
    "# Read in pre-formatted experimental data from Julia Wertheim's web-experiment\n",
    "# Data consist of participants' answers to three everyday conditionals with lentils, peas etc.\n",
    "julia_data = pd.read_csv('data/deduction_individual_responses.csv', sep=',').set_index('token')\n",
    "\n",
    "fig, ax = plt.subplots(1, 2, figsize=(15,2))\n",
    "julia_data.sum(axis=0).plot(kind='bar', rot=0, ax=ax[0], title='Total number of acceptances')\n",
    "julia_data.plot(kind='hist', bins=7, alpha=0.5, ax=ax[1], title='Acceptance number distribution')\n",
    "plt.show()"
   ]
  },
  {
   "cell_type": "markdown",
   "metadata": {},
   "source": [
    "### Model imports"
   ]
  },
  {
   "cell_type": "code",
   "execution_count": 23,
   "metadata": {},
   "outputs": [
    {
     "name": "stdout",
     "output_type": "stream",
     "text": [
      "importing done.\n"
     ]
    }
   ],
   "source": [
    "#from uniform_model import UniformModel\n",
    "#from empirical_aggregate_model import EmpiricalAggregate\n",
    "#from generic_mpt_model import GenericMPT\n",
    "from chater_oaksford_model import ChaterOaksford\n",
    "#from independence_model import IndependenceModel\n",
    "#from dependence_model import DependenceModel\n",
    "from adaptive_chater_oaksford_model import AdaptiveChaterOaksford\n",
    "print('importing done.')"
   ]
  },
  {
   "cell_type": "markdown",
   "metadata": {},
   "source": [
    "## Individualistic Evaluation\n",
    "* Iterate over all participants\n",
    "    * For every participant, let every model predict the response\n",
    "    * Save the score the model archieved\n",
    "    * Then tell the model the actual resonse\n",
    "* Evaluate the complete prediction-answer set"
   ]
  },
  {
   "cell_type": "code",
   "execution_count": null,
   "metadata": {},
   "outputs": [
    {
     "name": "stdout",
     "output_type": "stream",
     "text": [
      "6 / 343\r"
     ]
    }
   ],
   "source": [
    "working_data = data.copy()\n",
    "\n",
    "models = []\n",
    "#models = [UniformModel(), EmpiricalAggregate()]\n",
    "#models += [DependenceModel(), IndependenceModel(), GenericMPT()]\n",
    "\n",
    "THIN = 1\n",
    "STEP = 0.1\n",
    "MAX  = 2.0 + STEP\n",
    "\n",
    "adas = [AdaptiveChaterOaksford(model_name=str(i), weight = i) for i in list(np.arange(0, MAX, STEP))]\n",
    "models += adas\n",
    "for model in models:\n",
    "    model.fit(dataset=data)\n",
    "\n",
    "modi = data.columns\n",
    "\n",
    "selected_scoring_rules = {'Quadratic': scoring_rules.quad_score, \n",
    "                          'Logarithmic': scoring_rules.mean_log_score,                                                 \n",
    "                          'Accuracy': scoring_rules.mean_accuracy,\n",
    "                          'MRR': scoring_rules.mrr_score}\n",
    "\n",
    "numeric_scores = pd.DataFrame(0.0, columns=['Accuracy', 'MRR', 'Quadratic', 'Logarithmic'], \n",
    "                              index=[model.__name__ for model in models])\n",
    "modi = list(data.columns)\n",
    "\n",
    "for row in range(0, data.shape[0], THIN):\n",
    "    random.shuffle(modi)\n",
    "    # Re-initialize models to remove leftover information\n",
    "    models = [AdaptiveChaterOaksford(model_name=str(i), weight = i) for i in list(np.arange(0, MAX, STEP))]\n",
    "    \n",
    "    # Fit models to aggregate dataset\n",
    "    for model in models:\n",
    "        model.fit(dataset=data)\n",
    "    \n",
    "    # Iterate over all four modi MP, MT, AC, DA\n",
    "    for modus in modi:\n",
    "        \n",
    "        # There are two answers per participant\n",
    "        for answer_number in range(0, 2):\n",
    "            \n",
    "            # Transform answer frequency to [yes, no]\n",
    "            truth = np.array([[0, 0]])\n",
    "            if working_data[modus][row] > 0:\n",
    "                truth[0, 0] = 1\n",
    "            else:\n",
    "                truth[0, 1] = 1\n",
    "            \n",
    "            # If the participant gave the same answer twice, remember this\n",
    "            working_data[modus][row] -= 1\n",
    "            \n",
    "            # Let all models predict the answer\n",
    "            for model in models:\n",
    "                prediction = model.predict(modus)\n",
    "                # Transform to format [accept, reject]\n",
    "                prediction = np.array([[prediction, 1 - prediction]])\n",
    "\n",
    "                # Rate the prediction with all scoring rules\n",
    "                for rule_name, scoring_rule in selected_scoring_rules.items():\n",
    "                    numeric_scores[rule_name][model.__name__] += scoring_rule(np.array(prediction), truth)\n",
    "\n",
    "                # tell the model what actually happened\n",
    "                model.feedback(problem=modus, answer=truth[0, 0])\n",
    "\n",
    "    print('{} / {}'.format(row, data.shape[0]), end='\\r')\n",
    "    \n",
    "# Divide the scores by the number of participants sampled\n",
    "numeric_scores /= (data.shape[0] / THIN)\n",
    "# Divide the scores by the number of answers given per participant (8)\n",
    "numeric_scores /= (2 * data.shape[1])\n",
    "\n",
    "fig, ax = plt.subplots(2, 2, figsize=(14,8))\n",
    "\n",
    "i = 0\n",
    "for rule_name in numeric_scores.columns:\n",
    "    axis = ax[i // 2, i % 2]\n",
    "    a = numeric_scores[rule_name].plot(style='.-', rot=0, ax=axis, legend=rule_name)\n",
    "    axis.set_xlabel('Individual data/Group data')\n",
    "    axis.set_ylabel(rule_name)\n",
    "    i += 1    "
   ]
  },
  {
   "cell_type": "markdown",
   "metadata": {},
   "source": [
    "### Conclusion\n",
    "I have done a gridsearch on possible old/new empirical data weighting strategies.\n",
    "* There seems to be a quasi-optimal value for (*Accuracy, MRR, Quad*) but it is not optimal for *Log*\n",
    "* This is weird as both Quda and Log are strictly proper scoring rules\n",
    "* The score-weight landscape is not very smooth, there are spikes"
   ]
  }
 ],
 "metadata": {
  "kernelspec": {
   "display_name": "Python 3",
   "language": "python",
   "name": "python3"
  },
  "language_info": {
   "codemirror_mode": {
    "name": "ipython",
    "version": 3
   },
   "file_extension": ".py",
   "mimetype": "text/x-python",
   "name": "python",
   "nbconvert_exporter": "python",
   "pygments_lexer": "ipython3",
   "version": "3.5.2"
  }
 },
 "nbformat": 4,
 "nbformat_minor": 2
}
