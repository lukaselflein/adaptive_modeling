{
 "cells": [
  {
   "cell_type": "markdown",
   "metadata": {},
   "source": [
    "# Julia Webexperiment Extract Individual Responses"
   ]
  },
  {
   "cell_type": "code",
   "execution_count": 13,
   "metadata": {},
   "outputs": [
    {
     "data": {
      "text/html": [
       "<div>\n",
       "<table border=\"1\" class=\"dataframe\">\n",
       "  <thead>\n",
       "    <tr style=\"text-align: right;\">\n",
       "      <th>Deduction</th>\n",
       "      <th>MP</th>\n",
       "      <th>MT</th>\n",
       "      <th>AC</th>\n",
       "      <th>DA</th>\n",
       "    </tr>\n",
       "    <tr>\n",
       "      <th>token</th>\n",
       "      <th></th>\n",
       "      <th></th>\n",
       "      <th></th>\n",
       "      <th></th>\n",
       "    </tr>\n",
       "  </thead>\n",
       "  <tbody>\n",
       "    <tr>\n",
       "      <th>0I2kyX7</th>\n",
       "      <td>3</td>\n",
       "      <td>3</td>\n",
       "      <td>1</td>\n",
       "      <td>3</td>\n",
       "    </tr>\n",
       "    <tr>\n",
       "      <th>0iEtfX6</th>\n",
       "      <td>3</td>\n",
       "      <td>3</td>\n",
       "      <td>3</td>\n",
       "      <td>3</td>\n",
       "    </tr>\n",
       "    <tr>\n",
       "      <th>1WZxpN9</th>\n",
       "      <td>3</td>\n",
       "      <td>2</td>\n",
       "      <td>2</td>\n",
       "      <td>2</td>\n",
       "    </tr>\n",
       "    <tr>\n",
       "      <th>3UlceN0</th>\n",
       "      <td>3</td>\n",
       "      <td>2</td>\n",
       "      <td>3</td>\n",
       "      <td>1</td>\n",
       "    </tr>\n",
       "    <tr>\n",
       "      <th>3euCGN5</th>\n",
       "      <td>3</td>\n",
       "      <td>0</td>\n",
       "      <td>3</td>\n",
       "      <td>1</td>\n",
       "    </tr>\n",
       "  </tbody>\n",
       "</table>\n",
       "</div>"
      ],
      "text/plain": [
       "Deduction  MP  MT  AC  DA\n",
       "token                    \n",
       "0I2kyX7     3   3   1   3\n",
       "0iEtfX6     3   3   3   3\n",
       "1WZxpN9     3   2   2   2\n",
       "3UlceN0     3   2   3   1\n",
       "3euCGN5     3   0   3   1"
      ]
     },
     "metadata": {},
     "output_type": "display_data"
    },
    {
     "data": {
      "text/html": [
       "<div>\n",
       "<table border=\"1\" class=\"dataframe\">\n",
       "  <thead>\n",
       "    <tr style=\"text-align: right;\">\n",
       "      <th>Abduction</th>\n",
       "      <th>MP</th>\n",
       "      <th>MT</th>\n",
       "      <th>AC</th>\n",
       "      <th>DA</th>\n",
       "    </tr>\n",
       "    <tr>\n",
       "      <th>token</th>\n",
       "      <th></th>\n",
       "      <th></th>\n",
       "      <th></th>\n",
       "      <th></th>\n",
       "    </tr>\n",
       "  </thead>\n",
       "  <tbody>\n",
       "    <tr>\n",
       "      <th>0I2kyX7</th>\n",
       "      <td>3</td>\n",
       "      <td>3</td>\n",
       "      <td>3</td>\n",
       "      <td>3</td>\n",
       "    </tr>\n",
       "    <tr>\n",
       "      <th>0iEtfX6</th>\n",
       "      <td>3</td>\n",
       "      <td>3</td>\n",
       "      <td>3</td>\n",
       "      <td>2</td>\n",
       "    </tr>\n",
       "    <tr>\n",
       "      <th>1WZxpN9</th>\n",
       "      <td>2</td>\n",
       "      <td>2</td>\n",
       "      <td>3</td>\n",
       "      <td>2</td>\n",
       "    </tr>\n",
       "    <tr>\n",
       "      <th>3UlceN0</th>\n",
       "      <td>3</td>\n",
       "      <td>0</td>\n",
       "      <td>3</td>\n",
       "      <td>2</td>\n",
       "    </tr>\n",
       "    <tr>\n",
       "      <th>3euCGN5</th>\n",
       "      <td>2</td>\n",
       "      <td>0</td>\n",
       "      <td>3</td>\n",
       "      <td>0</td>\n",
       "    </tr>\n",
       "  </tbody>\n",
       "</table>\n",
       "</div>"
      ],
      "text/plain": [
       "Abduction  MP  MT  AC  DA\n",
       "token                    \n",
       "0I2kyX7     3   3   3   3\n",
       "0iEtfX6     3   3   3   2\n",
       "1WZxpN9     2   2   3   2\n",
       "3UlceN0     3   0   3   2\n",
       "3euCGN5     2   0   3   0"
      ]
     },
     "metadata": {},
     "output_type": "display_data"
    }
   ],
   "source": [
    "import pandas as pd\n",
    "\n",
    "# Read data\n",
    "df = pd.read_csv('dortmund-data-r.csv', sep=';')\n",
    "# Remove unneccesary columns\n",
    "df = df[['id', 'subject_group', 'token', 'answer_values', 'element_id',\n",
    "         'hidden_figure', 'hidden_inference', 'hidden_maximum', 'hidden_minimum']]\n",
    "df = df.drop(['subject_group', 'hidden_maximum', 'hidden_minimum'], axis=1)\n",
    "\n",
    "# Extract all conditional tasks (start with 'agree')\n",
    "# This still contains numerical/interval agreement values\n",
    "df['task'] = df['element_id'].apply(lambda x: True if x.startswith('agree') else False)\n",
    "task_df = df.loc[df['task']].copy()\n",
    "\n",
    "# Extract all yes-no-unknown tasks\n",
    "# This filters out numerical agreement values\n",
    "def infer_categorical(x):\n",
    "    if x in ['yes', 'no', 'unknown']:\n",
    "        return True\n",
    "    return False\n",
    "\n",
    "task_df['categorical'] = task_df['answer_values'].apply(infer_categorical)\n",
    "categorical_df = task_df.loc[task_df['categorical']].drop('categorical', axis=1)\n",
    "\n",
    "# Binarize answers\n",
    "def categorical_correctness(x):\n",
    "    if x.lower() == 'yes':\n",
    "        return 1\n",
    "    return 0\n",
    "categorical_df['correctness'] = categorical_df['answer_values'].apply(categorical_correctness)\n",
    "binary_df = categorical_df.drop(['id', 'answer_values', 'task', 'element_id'], axis=1)\n",
    "\n",
    "# Drop participants with missing values\n",
    "\n",
    "# How many questions did participants answer?\n",
    "correct_number_responses = binary_df['token'].value_counts()\n",
    "# Paste this into the original data frame\n",
    "individuals = binary_df.join(correct_number_responses, on='token', how='left', rsuffix='_number')\n",
    "# Drop participants who did not answer all 36 questions\n",
    "individuals = individuals[individuals.token_number == 36]\n",
    "\n",
    "# Transform long format to individual format\n",
    "\n",
    "# Sum over all binary acceptances\n",
    "individuals = individuals.groupby(['token', 'hidden_inference', 'hidden_figure'], as_index=False)['correctness'].agg('sum')\n",
    "\n",
    "# Consider only Deduction\n",
    "deductions = individuals[individuals.hidden_inference == 'Deduction']\n",
    "deductions = deductions.pivot(index='token', columns='hidden_figure', values='correctness')\n",
    "deductions.columns.name, deductions.index.name = 'Deduction', 'token'\n",
    "deductions = deductions[['MP', 'MT', 'AC', 'DA']]\n",
    "\n",
    "deductions.to_csv('deduction_individual_responses.csv', sep=',', index=True, header=True)\n",
    "display(deductions.iloc[0:5])\n",
    "\n",
    "# Consider only Abduction\n",
    "abductions = individuals[individuals.hidden_inference == 'Abduction']\n",
    "abductions = abductions.pivot(index='token', columns='hidden_figure', values='correctness')\n",
    "abductions.columns.name, abductions.index.name = 'Abduction', 'token'\n",
    "abductions = abductions[['MP', 'MT', 'AC', 'DA']]\n",
    "\n",
    "abductions.to_csv('abduction_individual_responses.csv', sep=',', index=True, header=True)\n",
    "display(abductions.iloc[0:5])"
   ]
  },
  {
   "cell_type": "code",
   "execution_count": 36,
   "metadata": {},
   "outputs": [
    {
     "data": {
      "text/html": [
       "<div>\n",
       "<table border=\"1\" class=\"dataframe\">\n",
       "  <thead>\n",
       "    <tr style=\"text-align: right;\">\n",
       "      <th></th>\n",
       "      <th>token</th>\n",
       "      <th>AC</th>\n",
       "      <th>DA</th>\n",
       "      <th>MP</th>\n",
       "      <th>MT</th>\n",
       "    </tr>\n",
       "  </thead>\n",
       "  <tbody>\n",
       "    <tr>\n",
       "      <th>0</th>\n",
       "      <td>0I2kyX7</td>\n",
       "      <td>3</td>\n",
       "      <td>3</td>\n",
       "      <td>3</td>\n",
       "      <td>3</td>\n",
       "    </tr>\n",
       "    <tr>\n",
       "      <th>1</th>\n",
       "      <td>0iEtfX6</td>\n",
       "      <td>3</td>\n",
       "      <td>2</td>\n",
       "      <td>3</td>\n",
       "      <td>3</td>\n",
       "    </tr>\n",
       "    <tr>\n",
       "      <th>2</th>\n",
       "      <td>1WZxpN9</td>\n",
       "      <td>3</td>\n",
       "      <td>2</td>\n",
       "      <td>2</td>\n",
       "      <td>2</td>\n",
       "    </tr>\n",
       "    <tr>\n",
       "      <th>3</th>\n",
       "      <td>3UlceN0</td>\n",
       "      <td>3</td>\n",
       "      <td>2</td>\n",
       "      <td>3</td>\n",
       "      <td>0</td>\n",
       "    </tr>\n",
       "    <tr>\n",
       "      <th>4</th>\n",
       "      <td>3euCGN5</td>\n",
       "      <td>3</td>\n",
       "      <td>0</td>\n",
       "      <td>2</td>\n",
       "      <td>0</td>\n",
       "    </tr>\n",
       "  </tbody>\n",
       "</table>\n",
       "</div>"
      ],
      "text/plain": [
       "     token  AC  DA  MP  MT\n",
       "0  0I2kyX7   3   3   3   3\n",
       "1  0iEtfX6   3   2   3   3\n",
       "2  1WZxpN9   3   2   2   2\n",
       "3  3UlceN0   3   2   3   0\n",
       "4  3euCGN5   3   0   2   0"
      ]
     },
     "metadata": {},
     "output_type": "display_data"
    },
    {
     "data": {
      "text/plain": [
       "AC    True\n",
       "DA    True\n",
       "MP    True\n",
       "MT    True\n",
       "dtype: bool"
      ]
     },
     "metadata": {},
     "output_type": "display_data"
    },
    {
     "data": {
      "text/plain": [
       "AC    True\n",
       "DA    True\n",
       "MP    True\n",
       "MT    True\n",
       "dtype: bool"
      ]
     },
     "metadata": {},
     "output_type": "display_data"
    }
   ],
   "source": [
    "# Check: read data in again\n",
    "test_abduction = pd.read_csv('abduction_individual_responses.csv', sep=',')\n",
    "test_deduction = pd.read_csv('deduction_individual_responses.csv', sep=',')\n",
    "\n",
    "display(test_abduction.iloc[0:5])\n",
    "\n",
    "# Compare to old data\n",
    "display((test_abduction.set_index('token') == abductions).all())\n",
    "display((test_deduction.set_index('token') == deductions).all())"
   ]
  },
  {
   "cell_type": "code",
   "execution_count": 46,
   "metadata": {},
   "outputs": [
    {
     "data": {
      "image/png": "[encoded data removed]",
      "text/plain": [
       "<matplotlib.figure.Figure at 0x7f15e1a1f0f0>"
      ]
     },
     "metadata": {},
     "output_type": "display_data"
    }
   ],
   "source": [
    "import matplotlib.pyplot as plt\n",
    "deductions.sum(axis=0).plot(kind='bar', rot=0, title='Total number of acceptances')\n",
    "plt.show()"
   ]
  },
  {
   "cell_type": "code",
   "execution_count": 14,
   "metadata": {},
   "outputs": [
    {
     "data": {
      "text/plain": [
       "49"
      ]
     },
     "metadata": {},
     "output_type": "display_data"
    },
    {
     "data": {
      "text/plain": [
       "49"
      ]
     },
     "metadata": {},
     "output_type": "display_data"
    }
   ],
   "source": [
    "display(len(deductions))\n",
    "display(len(abductions))"
   ]
  }
 ],
 "metadata": {
  "kernelspec": {
   "display_name": "Python 3",
   "language": "python",
   "name": "python3"
  },
  "language_info": {
   "codemirror_mode": {
    "name": "ipython",
    "version": 3
   },
   "file_extension": ".py",
   "mimetype": "text/x-python",
   "name": "python",
   "nbconvert_exporter": "python",
   "pygments_lexer": "ipython3",
   "version": "3.5.2"
  }
 },
 "nbformat": 4,
 "nbformat_minor": 2
}
