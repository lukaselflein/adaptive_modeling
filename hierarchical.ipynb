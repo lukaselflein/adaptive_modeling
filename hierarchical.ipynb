{
 "cells": [
  {
   "cell_type": "markdown",
   "metadata": {},
   "source": [
    "# Hierarchical model for conditional reasoning\n",
    "I want to create a simple hierarchical Bayesian model for predicting individual conditional human reasoning behavior.\n",
    "\n",
    "The intuition is the following:\n",
    "\n",
    "In the beginning, we do not anything about a single participant. Thus, we should not be able to make a much better guess at what she will do than using the empirical aggregate distribution as a forecast. Depending on the properness of the evaluation metric, we either use the most frequent answer or (parts of) the full empirical distribution.\n",
    "\n",
    "This empirical distribution might be better if smoothened. This smoothening could be a feature of a cognitive theory, which superimposes an occamian prior on the observations."
   ]
  },
  {
   "cell_type": "code",
   "execution_count": 1,
   "metadata": {},
   "outputs": [
    {
     "data": {
      "image/png": "[encoded data removed]",
      "text/plain": [
       "<matplotlib.figure.Figure at 0x7f0f5d474a20>"
      ]
     },
     "metadata": {},
     "output_type": "display_data"
    }
   ],
   "source": [
    "%matplotlib inline\n",
    "from matplotlib import pyplot as plt\n",
    "import numpy as np\n",
    "import pymc3 as pm\n",
    "import pandas as pd\n",
    "import seaborn as sns\n",
    "import scoring_rules\n",
    "\n",
    "np.random.seed(42)\n",
    "\n",
    "# Read in experimental data\n",
    "patterns = pd.read_csv('../conditional_data/oberauer_81_patterns.csv')\n",
    "patterns = patterns.drop(patterns.columns[0], axis=1)\n",
    "\n",
    "# Transform counts into individual responses\n",
    "data = []\n",
    "for pattern in patterns.columns:\n",
    "    frequency = patterns.loc[0, pattern]\n",
    "    data += [[int(pattern[i]) for i in range(len(pattern))]] * frequency\n",
    "data = pd.DataFrame(np.array(data), columns=['MP', 'MT', 'AC', 'DA'])\n",
    "\n",
    "# Plot data summaries\n",
    "fig, ax = plt.subplots(1, 2, figsize=(15,2))\n",
    "data.sum(axis=0).plot(kind='bar', rot=0, ax=ax[0], title='Total number of acceptances')\n",
    "data.plot(kind='hist', bins=5, alpha=0.5, ax=ax[1], title='Acceptance number distribution')\n",
    "plt.show()"
   ]
  },
  {
   "cell_type": "code",
   "execution_count": 2,
   "metadata": {
    "collapsed": true
   },
   "outputs": [],
   "source": [
    "def one_hot(data):\n",
    "    ''' \n",
    "    Transform data of form [1, 1, 1, 1] to one-hot-encoding form [0, 0, .... 1]\n",
    "    '''\n",
    "    indices = (data * np.array([8, 4, 2, 1])).sum(axis=1)\n",
    "    one_hot_data = np.zeros((len(indices), 16))\n",
    "    for i in range(len(indices)):\n",
    "        one_hot_data[i, indices[i]] = 1\n",
    "    return(one_hot_data)"
   ]
  },
  {
   "cell_type": "code",
   "execution_count": 3,
   "metadata": {},
   "outputs": [
    {
     "name": "stdout",
     "output_type": "stream",
     "text": [
      "Truth = MP only\n",
      "Prediction\t Brier Logscore Accuracy MRR\n",
      "Uniform \t 0.94 \t -2.8  \t 0.06 \t 0.06\n",
      "Always ALL \t 2.00 \t -inf  \t 0.00 \t 0.06\n",
      "Always MP \t 0.00 \t 0.0  \t 1.00 \t 1.00\n",
      "Empirical \t 0.71 \t -1.3  \t 0.00 \t 0.50\n",
      "\n",
      "Truth = {MP only, MP&MT, All Modi}\n",
      "Prediction\t Brier Logscore Accuracy MRR\n",
      "Uniform \t 0.94 \t -2.8  \t 0.06 \t 0.06\n",
      "Always ALL \t 1.33 \t -inf  \t 0.33 \t 0.38\n",
      "Always MP \t 1.33 \t -inf  \t 0.33 \t 0.38\n",
      "Empirical \t 0.68 \t -1.3  \t 0.33 \t 0.61\n",
      "\n",
      "Truth = Empirical Data\n",
      "Prediction\t Brier Logscore Accuracy MRR\n",
      "Uniform \t 0.94 \t -2.8  \t 0.06 \t 0.06\n",
      "Always ALL \t 1.36 \t -inf  \t 0.32 \t 0.36\n",
      "Always MP \t 1.45 \t -inf  \t 0.27 \t 0.32\n",
      "Empirical \t 0.75 \t -1.6  \t 0.32 \t 0.57\n",
      "\n"
     ]
    }
   ],
   "source": [
    "# One participant said MP only\n",
    "mp_only = one_hot(np.array([[1, 0, 0, 0]]))\n",
    "\n",
    "# One participant said MP only, another MP and MT, another MP, MT, AC, DA\n",
    "all_modes = one_hot(np.array([[1, 0, 0, 0], [1, 1, 0, 0], [1, 1, 1, 1]]))\n",
    "\n",
    "# Subset of participants who gave consistent answers in both experiments\n",
    "consistent = one_hot((data[data != 1].dropna().astype(int) // 2).values)\n",
    "\n",
    "for truth, truth_name in [(mp_only, 'Truth = MP only'), \n",
    "                          (all_modes, 'Truth = {MP only, MP&MT, All Modi}'),\n",
    "                          (consistent, 'Truth = Empirical Data')]:\n",
    "    print(truth_name)\n",
    "    print('Prediction\\t Brier Logscore Accuracy MRR')\n",
    "    \n",
    "    # example predictions\n",
    "    uniform_prediction = np.array([[1/16] * 16] * len(truth))\n",
    "    all_only_prediction = np.array([[0] * 15 + [1]] * len(truth))\n",
    "    empirical_distribution = np.array([consistent.mean(axis=0)]  * len(truth))\n",
    "    mp_only_prediction = one_hot(np.array([[1, 0, 0, 0]] * len(truth)))\n",
    "\n",
    "\n",
    "    for prediction, prediction_name in ((uniform_prediction, 'Uniform'),\n",
    "                                        (all_only_prediction, 'Always ALL'),\n",
    "                                        (mp_only_prediction, 'Always MP'),\n",
    "                                        (empirical_distribution, 'Empirical')):\n",
    "        print('{} \\t {:1.2f} \\t {:1.1f}  \\t {:1.2f} \\t {:1.2f}'.format(prediction_name,\n",
    "                                                   scoring_rules.quad_score(prediction, truth), \n",
    "                                                   scoring_rules.mean_log_score(prediction, truth),                                                   \n",
    "                                                   scoring_rules.mean_accuracy(prediction, truth),\n",
    "                                                   scoring_rules.mrr_score(prediction, truth)))\n",
    "    print()"
   ]
  },
  {
   "cell_type": "code",
   "execution_count": null,
   "metadata": {
    "collapsed": true
   },
   "outputs": [],
   "source": []
  }
 ],
 "metadata": {
  "kernelspec": {
   "display_name": "Python 3",
   "language": "python",
   "name": "python3"
  },
  "language_info": {
   "codemirror_mode": {
    "name": "ipython",
    "version": 3
   },
   "file_extension": ".py",
   "mimetype": "text/x-python",
   "name": "python",
   "nbconvert_exporter": "python",
   "pygments_lexer": "ipython3",
   "version": "3.5.2"
  }
 },
 "nbformat": 4,
 "nbformat_minor": 2
}
