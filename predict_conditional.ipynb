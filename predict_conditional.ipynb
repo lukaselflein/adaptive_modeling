{
 "cells": [
  {
   "cell_type": "markdown",
   "metadata": {},
   "source": [
    "# Predicting Conditional Reasoning Responses"
   ]
  },
  {
   "cell_type": "code",
   "execution_count": 51,
   "metadata": {
    "collapsed": true
   },
   "outputs": [],
   "source": [
    "%matplotlib inline\n",
    "from matplotlib import pyplot as plt\n",
    "import numpy as np\n",
    "import pymc3 as pm\n",
    "import pandas as pd\n",
    "import seaborn as sns\n",
    "\n",
    "np.random.seed(42)\n",
    "\n",
    "# Read in experimental data\n",
    "patterns = pd.read_csv('../conditional_data/oberauer_81_patterns.csv')\n",
    "patterns = patterns.drop(patterns.columns[0], axis=1)\n",
    "\n",
    "# Transform counts into individual responses\n",
    "data = []\n",
    "for pattern in patterns.columns:\n",
    "    frequency = patterns.loc[0, pattern]\n",
    "    data += [[int(pattern[i]) for i in range(len(pattern))]] * frequency\n",
    "data = pd.DataFrame(np.array(data), columns=['MP', 'MT', 'AC', 'DA'])"
   ]
  },
  {
   "cell_type": "markdown",
   "metadata": {},
   "source": [
    "### Empirical distribution as a baseline"
   ]
  },
  {
   "cell_type": "code",
   "execution_count": 159,
   "metadata": {},
   "outputs": [
    {
     "data": {
      "image/png": "[encoded data removed]",
      "text/plain": [
       "<matplotlib.figure.Figure at 0x7fb0b386b588>"
      ]
     },
     "metadata": {},
     "output_type": "display_data"
    }
   ],
   "source": [
    "# Plot data summaries\n",
    "fig, ax = plt.subplots(1, 2, figsize=(15,2))\n",
    "data.sum(axis=0).plot(kind='bar', rot=0, ax=ax[0], title='Total number of acceptances')\n",
    "data.plot(kind='hist', bins=5, alpha=0.5, ax=ax[1], title='Acceptance number distribution')\n",
    "plt.show()"
   ]
  },
  {
   "cell_type": "markdown",
   "metadata": {},
   "source": [
    "We can use these distributions as a baseline for prediction. \n",
    "We simply use the empirical frequency as a forecast, i.e. \n",
    "\n",
    "$p_{pred}(MP) = f_{em}(MP)$\n",
    "\n",
    "To evaluate this, we need a prediction metric, i.e. a scoring function for the prediction p and the truth t\n",
    "\n",
    "$ (p, t) \\rightarrow {\\rm I\\!R}$\n",
    "\n",
    "There are several available, for example the quadratic scoring function:\n",
    "\n",
    "$S_{quad} = \\frac{1}{N} \\sum_i (Prediction_i - Truth_i)^2$\n",
    "\n",
    "We define a handful of scores:"
   ]
  },
  {
   "cell_type": "code",
   "execution_count": 258,
   "metadata": {
    "collapsed": true
   },
   "outputs": [],
   "source": [
    "def quad_score(prediction, truth):\n",
    "    '''\n",
    "    Takes a matrix of predictions and actual outcomes.\n",
    "    Returns the qudratic Brier-score.\n",
    "    Proper scoring rule.\n",
    "    '''\n",
    "    # The score is the sum of squared deviations\n",
    "    score = np.sum((truth - prediction)**2)\n",
    "    # Divided by the number of forecasts for normalization\n",
    "    score /= truth.shape[0]\n",
    "    return score\n",
    "\n",
    "\n",
    "def accuracy(prediction, truth):\n",
    "    '''\n",
    "    Takes a matrix of predictions and actual outcomes.\n",
    "    Returns the accuracy at rank 1.\n",
    "    Improper scoring rule.\n",
    "    '''\n",
    "\n",
    "    matrix = prediction.copy()\n",
    "    # Only maximum value predictions are considered\n",
    "    for row in range(0, truth.shape[0]):\n",
    "        mask = abs(prediction[row] - np.max(prediction[row])) < 0.001\n",
    "        # If multiple entries have first rank, one is chosen uniformely.\n",
    "        # This is equivalent to giving a score of 1/N\n",
    "        matrix[row][mask] = 1 / len(prediction[row][mask])\n",
    "        # All other predictions are neglected\n",
    "        matrix[row][np.logical_not(mask)] = 0\n",
    "\n",
    "    # Only count the predictions of the actual outcomes\n",
    "    matrix = matrix[np.where(truth > 0.99)]\n",
    "    score = np.sum(matrix) / len(matrix)\n",
    "    return score\n",
    "\n",
    "\n",
    "def one_hot(data):\n",
    "    ''' \n",
    "    Transform data of form [1, 1, 1, 1] to one-hot-encoding form [0, 0, .... 1]\n",
    "    '''\n",
    "    indices = (data * np.array([8, 4, 2, 1])).sum(axis=1)\n",
    "    one_hot_data = np.zeros((len(indices), 16))\n",
    "    for i in range(len(indices)):\n",
    "        one_hot_data[i, indices[i]] = 1\n",
    "    return(one_hot_data)\n",
    "\n",
    "def log_score(prediction, truth):\n",
    "    '''\n",
    "    Takes a matrix of predictions and actual outcomes, returns the logarithmic\n",
    "    score.\n",
    "    Proper scoring rule.\n",
    "    '''\n",
    "\n",
    "\n",
    "    # Get the matrix elements that came out true\n",
    "    outcome_predictions = prediction[np.where(truth > 0.99)]\n",
    "    # The score is the sum of logarithms of the predictions\n",
    "    score = np.sum(np.log(outcome_predictions))\n",
    "    return score / truth.shape[0]\n",
    "\n",
    "\n",
    "def mrr(prediction, truth):\n",
    "    '''\n",
    "    Return the Mean Reciprocal Rank score of a matrix of predictions and actual outcomes. Improper scoring rule.\n",
    "    '''\n",
    "    import scipy.stats\n",
    "    # Invert probablities as small numbers are ranked higher\n",
    "    ranked = 1 / prediction.copy()\n",
    "    # Rank predictions\n",
    "    for row in range(ranked.shape[0]):\n",
    "        # The max rank is given in case of ties\n",
    "        ranked[row] = scipy.stats.rankdata(ranked[row], method='max')\n",
    "\n",
    "    truth_mask = np.where(truth > 0.99)\n",
    "    # The score is 1/maxrank\n",
    "    ranked_scores = 1 / ranked[truth_mask]\n",
    "    score = np.sum(ranked_scores)\n",
    "    return score / truth.shape[0]"
   ]
  },
  {
   "cell_type": "code",
   "execution_count": 259,
   "metadata": {},
   "outputs": [
    {
     "name": "stdout",
     "output_type": "stream",
     "text": [
      "Truth = MP only\n",
      "Prediction\t Brier Logscore Accuracy MRR\n",
      "Uniform \t 0.94 \t -2.8  \t 0.06 \t 0.06\n",
      "Always ALL \t 2.00 \t -inf  \t 0.00 \t 0.06\n",
      "Always MP \t 0.00 \t 0.0  \t 1.00 \t 1.00\n",
      "Empirical \t 0.71 \t -1.3  \t 0.00 \t 0.50\n",
      "\n",
      "Truth = {MP only, MP&MT, All Modi}\n",
      "Prediction\t Brier Logscore Accuracy MRR\n",
      "Uniform \t 0.94 \t -2.8  \t 0.06 \t 0.06\n",
      "Always ALL \t 1.33 \t -inf  \t 0.33 \t 0.38\n",
      "Always MP \t 1.33 \t -inf  \t 0.33 \t 0.38\n",
      "Empirical \t 0.68 \t -1.3  \t 0.33 \t 0.61\n",
      "\n",
      "Truth = Empirical Data\n",
      "Prediction\t Brier Logscore Accuracy MRR\n",
      "Uniform \t 0.94 \t -2.8  \t 0.06 \t 0.06\n",
      "Always ALL \t 1.36 \t -inf  \t 0.32 \t 0.36\n",
      "Always MP \t 1.45 \t -inf  \t 0.27 \t 0.32\n",
      "Empirical \t 0.75 \t -1.6  \t 0.32 \t 0.57\n",
      "\n"
     ]
    }
   ],
   "source": [
    "# One participant said MP only\n",
    "mp_only = one_hot(np.array([[1, 0, 0, 0]]))\n",
    "\n",
    "# One participant said MP only, another MP and MT, another MP, MT, AC, DA\n",
    "all_modes = one_hot(np.array([[1, 0, 0, 0], [1, 1, 0, 0], [1, 1, 1, 1]]))\n",
    "\n",
    "# Subset of participants who gave consistent answers in both experiments\n",
    "consistent = one_hot((data[data != 1].dropna().astype(int) // 2).values)\n",
    "\n",
    "for truth, truth_name in [(mp_only, 'Truth = MP only'), \n",
    "                          (all_modes, 'Truth = {MP only, MP&MT, All Modi}'),\n",
    "                          (consistent, 'Truth = Empirical Data')]:\n",
    "    print(truth_name)\n",
    "    print('Prediction\\t Brier Logscore Accuracy MRR')\n",
    "    \n",
    "    # example predictions\n",
    "    uniform_prediction = np.array([[1/16] * 16] * len(truth))\n",
    "    all_only_prediction = np.array([[0] * 15 + [1]] * len(truth))\n",
    "    empirical_distribution = np.array([consistent.mean(axis=0)]  * len(truth))\n",
    "    mp_only_prediction = one_hot(np.array([[1, 0, 0, 0]] * len(truth)))\n",
    "    \n",
    "\n",
    "    for prediction, prediction_name in ((uniform_prediction, 'Uniform'), \n",
    "                                        (all_only_prediction, 'Always ALL'),\n",
    "                                        (mp_only_prediction, 'Always MP'),\n",
    "                                        (empirical_distribution, 'Empirical')):\n",
    "        print('{} \\t {:1.2f} \\t {:1.1f}  \\t {:1.2f} \\t {:1.2f}'.format(prediction_name,\n",
    "                                                   quad_score(prediction, truth), \n",
    "                                                   log_score(prediction, truth),                                                   \n",
    "                                                   accuracy(prediction, truth),\n",
    "                                                   mrr(prediction, truth)))\n",
    "    print()"
   ]
  },
  {
   "cell_type": "markdown",
   "metadata": {},
   "source": [
    "So we see that \n",
    "* the empirical distribution is a decent predictior for it's individuals' responses\n",
    "* the Accuracy measure is not strictly proper, it gives equal score to different predictions\n",
    "* Logscore gives infinite scores for 0% predictions\n",
    "\n",
    "It would be nice if we could enhance the predictive power of the empirical distribution."
   ]
  }
 ],
 "metadata": {
  "kernelspec": {
   "display_name": "Python 3",
   "language": "python",
   "name": "python3"
  },
  "language_info": {
   "codemirror_mode": {
    "name": "ipython",
    "version": 3
   },
   "file_extension": ".py",
   "mimetype": "text/x-python",
   "name": "python",
   "nbconvert_exporter": "python",
   "pygments_lexer": "ipython3",
   "version": "3.5.2"
  }
 },
 "nbformat": 4,
 "nbformat_minor": 2
}
